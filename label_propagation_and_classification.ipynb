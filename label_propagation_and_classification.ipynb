{
 "cells": [
  {
   "cell_type": "markdown",
   "metadata": {},
   "source": [
    "# Using label Propagation pipeline to label and classify mock data\n",
    "\n",
    "This notebook demonstrate how to use the label propagation code to label clothing data. The data used in this example is a Mock dataset randomly generated using the most common words for each category in the actual data used in the paper that accompanies this work. \n",
    "\n",
    "This work is intended to give a demonstration of the methods and code used in this work. As it is a mock dataset with product name that are not alway realistic we do not expect the results to be as accurate as those reported in the paper."
   ]
  },
  {
   "cell_type": "code",
   "execution_count": 1,
   "metadata": {
    "scrolled": false
   },
   "outputs": [
    {
     "name": "stderr",
     "output_type": "stream",
     "text": [
      "/home/hazel/anaconda3/lib/python3.7/site-packages/fuzzywuzzy/fuzz.py:11: UserWarning: Using slow pure-python SequenceMatcher. Install python-Levenshtein to remove this warning\n",
      "  warnings.warn('Using slow pure-python SequenceMatcher. Install python-Levenshtein to remove this warning')\n"
     ]
    }
   ],
   "source": [
    "# Python imports\n",
    "import json\n",
    "import numpy as np\n",
    "import pandas as pd\n",
    "from importlib import reload\n",
    "import logging\n",
    "import  sys\n",
    "\n",
    "# plotting imports\n",
    "from matplotlib import pylab as plt\n",
    "import seaborn as sns\n",
    "%matplotlib notebook\n",
    "\n",
    "# scikit lean imports\n",
    "from sklearn.model_selection import train_test_split, cross_val_score, GridSearchCV\n",
    "from sklearn.svm import SVC\n",
    "from sklearn.tree import DecisionTreeClassifier\n",
    "from sklearn.ensemble import RandomForestClassifier\n",
    "from sklearn.preprocessing import LabelEncoder\n",
    "from sklearn.metrics import confusion_matrix, classification_report\n",
    "\n",
    "# NLP imports\n",
    "from fuzzywuzzy import fuzz\n",
    "from nltk.metrics import distance\n",
    "\n",
    "# Custom imports of files to run label propagation pipeline\n",
    "from src import labelling_pipeline\n",
    "from src import Word_vectors\n",
    "\n",
    "logging.basicConfig(stream=sys.stdout, level=logging.INFO)\n",
    "\n",
    "logger = logging.getLogger(__name__)\n",
    "logger.setLevel(logging.INFO)\n",
    "\n",
    "logging.getLogger(\"gensim\").setLevel(logging.CRITICAL)\n"
   ]
  },
  {
   "cell_type": "markdown",
   "metadata": {},
   "source": [
    "*Note about the above warning: this work was undertaken using diffLib not python-Levenshtein due to restriction on avalible packages. To use python-levenshtein adjustments to the thresholds may be required*\n",
    "\n",
    "### Read in data\n",
    "\n",
    "In this code example we make use of a mock dataset and seed labels which are styled on the data in the accompying paper, see section 2\n",
    "\n",
    "First read in the seed labels that will be used for fuzzy matching and label propagation"
   ]
  },
  {
   "cell_type": "code",
   "execution_count": 2,
   "metadata": {},
   "outputs": [],
   "source": [
    "# seed labels\n",
    "with open('data/seed_labels.json', 'r') as f:\n",
    "    seed_labels = json.load(f)"
   ]
  },
  {
   "cell_type": "markdown",
   "metadata": {},
   "source": [
    "Now read in the mock data to be labelled "
   ]
  },
  {
   "cell_type": "code",
   "execution_count": 3,
   "metadata": {},
   "outputs": [],
   "source": [
    "# Read in data\n",
    "df_mock = pd.read_csv('data/clothing_mock_data.csv',\n",
    "                      encoding=\"ISO-8859-1\")"
   ]
  },
  {
   "cell_type": "markdown",
   "metadata": {},
   "source": [
    "Prevelance of items in the mock dataset"
   ]
  },
  {
   "cell_type": "code",
   "execution_count": 4,
   "metadata": {
    "scrolled": true
   },
   "outputs": [
    {
     "name": "stdout",
     "output_type": "stream",
     "text": [
      "Number of items for each label\n",
      "1104 items with label 0 \n",
      "434 items with label 1 \n",
      "393 items with label 2 \n",
      "75 items with label 3 \n",
      "576 items with label 4 \n",
      "514 items with label 5 \n",
      "395 items with label 6 \n",
      "243 items with label 7 \n",
      "261 items with label 8 \n"
     ]
    }
   ],
   "source": [
    "print('Number of items for each label')\n",
    "for lab in np.sort(df_mock.true_label.unique()):\n",
    "    print(\n",
    "        f\"{len(df_mock[df_mock['true_label'] == lab])} items with label {lab} \"\n",
    "    )"
   ]
  },
  {
   "cell_type": "markdown",
   "metadata": {},
   "source": [
    "### Create a test train split\n",
    "In the paper we had a mock 2 months of data for the test and train datasets. Here as the mock data is smaller we will use a test train split stratified on the true label. There is an 80/20% train/test split in this mock example."
   ]
  },
  {
   "cell_type": "code",
   "execution_count": 5,
   "metadata": {},
   "outputs": [],
   "source": [
    "X_train, X_test, y_train, y_test = train_test_split(df_mock.drop('true_label', axis=1),\n",
    "                                                    df_mock['true_label'], test_size=0.20,\n",
    "                                                    stratify=df_mock['true_label'])"
   ]
  },
  {
   "cell_type": "markdown",
   "metadata": {},
   "source": [
    "### Helper lists \n",
    "\n",
    "These are some helper lists that are used in the rest of this notebook.\n",
    "These are lists of the primary gender and high level category for each category and a custom stopword list. \n",
    "The final helper list is of the category names. \n",
    "The method performs label propagation in a one vs rest mode for each category in turn. Each run through will be stored in a dictionary  of dataframes with key corresponding to outs. \n",
    "\n",
    "The stop words will be removed before creating the word vectors.\n",
    "\n",
    "The division and categories lists are used to help with selecting sub-set to match with and to clean the fuzzy matching to ensure maximum accuracy for the labels going into label propagation."
   ]
  },
  {
   "cell_type": "code",
   "execution_count": 6,
   "metadata": {},
   "outputs": [],
   "source": [
    "# gender for each category\n",
    "divisions = ['Womens', 'Men', 'Womens', 'Womens', 'Boys', 'Girls', 'Men', 'Men']\n",
    "# broad categories for fuzzy matching cleaning\n",
    "categories = ['Coats', 'Shirts', 'Fitness & activewear', 'Swim', 'Jeans',\n",
    "              'Tops', 'Underwear', 'Underwear']\n",
    "\n",
    "# list of stopwords for use in word vectors\n",
    "stop = ['pack', 'print', 'printed', 'sleeve', 'long', 'fit',\n",
    "        'f', 't', 's', 'asos', 'stripe', 'slim', 'running', 'active']\n",
    "\n",
    "# names for output cleaned/labeled dataframes\n",
    "outs = ['coats', 'shirts', 'shorts', 'swim', 'jeans', 'tops', 'pants', 'socks']"
   ]
  },
  {
   "cell_type": "markdown",
   "metadata": {},
   "source": [
    "# Perform Label propogation for each category in turn \n"
   ]
  },
  {
   "cell_type": "markdown",
   "metadata": {},
   "source": [
    "These are the parameters used for fuzzy matching. \n",
    "\n",
    "## Method parameters\n",
    "\n",
    "Each matching method used requires a dictionary of the require parameters.\n",
    "These are put into a list to allow parameters for different methods to be run in the pipeline.\n",
    "\n",
    "The final fuzzy matched class for an is a popular vote decision from the result of all the methods used.\n",
    "In the version used in the paper and match is excepted if 2 of 3 metrics agree, positively or negatively. \n",
    "See section 3.2.1 for details of the fuzz matching methods used in this work"
   ]
  },
  {
   "cell_type": "code",
   "execution_count": 7,
   "metadata": {},
   "outputs": [],
   "source": [
    "matching_list = [{\n",
    "    \"label\": \"label_fuz\",\n",
    "    \"func\": fuzz.partial_ratio,\n",
    "    \"thresh\": 70,\n",
    "    \"neg\": 25,\n",
    "    \"greater\": True,\n",
    "    \"less\": False}, \n",
    "    {\n",
    "    \"label\": \"label_edit\",\n",
    "    \"func\": distance.edit_distance,\n",
    "    \"thresh\": 30,\n",
    "    \"neg\": 75,\n",
    "    \"greater\": False,\n",
    "    \"less\": True}, \n",
    "    {\n",
    "    \"label\": \"label_jaccard\",\n",
    "    \"func\": distance.jaccard_distance,\n",
    "    \"thresh\": 0.30,\n",
    "    \"neg\": 0.75,\n",
    "    \"greater\": False,\n",
    "    \"less\": True}]"
   ]
  },
  {
   "cell_type": "markdown",
   "metadata": {},
   "source": [
    "Similarly as for the fuzzy matching above there are hyperparameters required for both the word vectors and the label propagation. \n",
    "\n",
    "The dictionary below contains first 3 parameters for the word vectorisation methods and then 5 different label propagation parameters."
   ]
  },
  {
   "cell_type": "code",
   "execution_count": 8,
   "metadata": {},
   "outputs": [],
   "source": [
    "word_labprop_params = {\n",
    "    \"epochs\": 200,     \n",
    "    \"print_sim\": False,\n",
    "    \"ngram_range\": (1, 2),\n",
    "    \"doc2vec_params\": {   \n",
    "        'alpha': 0.01,\n",
    "        'kernel': 'knn',\n",
    "        'n_neighbors': 6,\n",
    "        \"thresh\": 0.7,\n",
    "    },\n",
    "    \"tfidf_params\": {\n",
    "        'alpha': 0.01,\n",
    "        'kernel': 'knn',\n",
    "        'n_neighbors': 6,\n",
    "        \"thresh\": 0.7, \n",
    "    },\n",
    "    \"count_params\": {\n",
    "        \"alpha\": 0.01,\n",
    "        \"kernel\": \"knn\",\n",
    "        \"n_neighbors\": 6,\n",
    "        \"thresh\": 0.7,  \n",
    "    },\n",
    "    \"fast_params\": {\n",
    "        \"alpha\": 0.01,\n",
    "        \"kernel\": \"knn\",\n",
    "        \"n_neighbors\": 6,\n",
    "        \"thresh\": 0.7,\n",
    "    },\n",
    "    \"word2vec_params\": {\n",
    "        \"alpha\": 0.01,\n",
    "        \"kernel\": \"knn\",\n",
    "        \"n_neighbors\": 6,\n",
    "        \"thresh\": 0.7, \n",
    "    }\n",
    "}"
   ]
  },
  {
   "cell_type": "markdown",
   "metadata": {},
   "source": [
    "## Run the label propagation loop\n",
    "\n",
    "Below is the main function performing the label propagation. This loop performs all the methods described in sections 3.1 to 3.2 of the accompanying paper and shown in Figure 5.\n",
    "\n",
    "As described in the paper the code takes a one vs rest method performing matching and then label propagation for the each category in turn.\n",
    "The results of each propagation are then stored into a dictionary of dataframes for in order for the results to be combined across all categories."
   ]
  },
  {
   "cell_type": "code",
   "execution_count": 9,
   "metadata": {
    "scrolled": true
   },
   "outputs": [
    {
     "name": "stdout",
     "output_type": "stream",
     "text": [
      "INFO:__main__:** category: coats **\n",
      "INFO:src.labelling_pipeline:Using difflib for sequence matching with fuzzywuzzy\n",
      "INFO:src.labelling_pipeline:Cleaning with common words\n",
      "INFO:src.labelling_pipeline:size of data after clean with common words: 982\n",
      "INFO:src.labelling_pipeline:Fuzzy Matching\n"
     ]
    },
    {
     "data": {
      "application/vnd.jupyter.widget-view+json": {
       "model_id": "fff9b32d5c6740e6877c881c0dccd462",
       "version_major": 2,
       "version_minor": 0
      },
      "text/plain": [
       "HBox(children=(IntProgress(value=0, description='Fuzzy matching in progress:', max=3, style=ProgressStyle(desc…"
      ]
     },
     "metadata": {},
     "output_type": "display_data"
    },
    {
     "name": "stdout",
     "output_type": "stream",
     "text": [
      "\n",
      "INFO:src.labelling_pipeline:Number of fuzzyMatch labels: 17\n",
      "INFO:src.labelling_pipeline:Number of negative labels: 57\n",
      "INFO:src.labelling_pipeline:Word Vectors\n"
     ]
    },
    {
     "data": {
      "application/vnd.jupyter.widget-view+json": {
       "model_id": "76f2a9d26f8443e6b61b72a615c27e7a",
       "version_major": 2,
       "version_minor": 0
      },
      "text/plain": [
       "HBox(children=(IntProgress(value=0, description='Computing vectors:', max=3, style=ProgressStyle(description_w…"
      ]
     },
     "metadata": {},
     "output_type": "display_data"
    },
    {
     "name": "stdout",
     "output_type": "stream",
     "text": [
      "INFO:src.labelling_pipeline:calculated word2vec\n",
      "INFO:src.labelling_pipeline:calculated tfidf\n",
      "INFO:src.labelling_pipeline:calculated count\n",
      "\n",
      "INFO:src.labelling_pipeline:Label propagation\n"
     ]
    },
    {
     "data": {
      "application/vnd.jupyter.widget-view+json": {
       "model_id": "994a99f8e5ae429e94127a88ec69115a",
       "version_major": 2,
       "version_minor": 0
      },
      "text/plain": [
       "HBox(children=(IntProgress(value=0, description='Running label propagation', max=3, style=ProgressStyle(descri…"
      ]
     },
     "metadata": {},
     "output_type": "display_data"
    },
    {
     "name": "stderr",
     "output_type": "stream",
     "text": [
      "/home/hazel/anaconda3/lib/python3.7/site-packages/sklearn/semi_supervised/label_propagation.py:293: RuntimeWarning: invalid value encountered in true_divide\n",
      "  self.label_distributions_ /= normalizer\n",
      "/home/hazel/anaconda3/lib/python3.7/site-packages/sklearn/semi_supervised/label_propagation.py:293: RuntimeWarning: invalid value encountered in true_divide\n",
      "  self.label_distributions_ /= normalizer\n"
     ]
    },
    {
     "name": "stdout",
     "output_type": "stream",
     "text": [
      "\n",
      "INFO:src.labelling_pipeline:Finding modal labels\n",
      "INFO:src.labelling_pipeline:More than one method used, finding modal label\n"
     ]
    },
    {
     "name": "stderr",
     "output_type": "stream",
     "text": [
      "/home/hazel/anaconda3/lib/python3.7/site-packages/sklearn/semi_supervised/label_propagation.py:293: RuntimeWarning: invalid value encountered in true_divide\n",
      "  self.label_distributions_ /= normalizer\n"
     ]
    },
    {
     "name": "stdout",
     "output_type": "stream",
     "text": [
      "INFO:__main__:** category: shirts **\n",
      "INFO:src.labelling_pipeline:Using difflib for sequence matching with fuzzywuzzy\n",
      "INFO:src.labelling_pipeline:Cleaning with common words\n",
      "INFO:src.labelling_pipeline:size of data after clean with common words: 802\n",
      "INFO:src.labelling_pipeline:Fuzzy Matching\n"
     ]
    },
    {
     "data": {
      "application/vnd.jupyter.widget-view+json": {
       "model_id": "634387e4eda74732bcf86276787ecfdc",
       "version_major": 2,
       "version_minor": 0
      },
      "text/plain": [
       "HBox(children=(IntProgress(value=0, description='Fuzzy matching in progress:', max=3, style=ProgressStyle(desc…"
      ]
     },
     "metadata": {},
     "output_type": "display_data"
    },
    {
     "name": "stdout",
     "output_type": "stream",
     "text": [
      "\n",
      "INFO:src.labelling_pipeline:Number of fuzzyMatch labels: 46\n",
      "INFO:src.labelling_pipeline:Number of negative labels: 31\n",
      "INFO:src.labelling_pipeline:Word Vectors\n"
     ]
    },
    {
     "data": {
      "application/vnd.jupyter.widget-view+json": {
       "model_id": "c4b7f35580a341289c711070a18634e0",
       "version_major": 2,
       "version_minor": 0
      },
      "text/plain": [
       "HBox(children=(IntProgress(value=0, description='Computing vectors:', max=3, style=ProgressStyle(description_w…"
      ]
     },
     "metadata": {},
     "output_type": "display_data"
    },
    {
     "name": "stdout",
     "output_type": "stream",
     "text": [
      "INFO:src.labelling_pipeline:calculated word2vec\n",
      "INFO:src.labelling_pipeline:calculated tfidf\n",
      "INFO:src.labelling_pipeline:calculated count\n",
      "\n",
      "INFO:src.labelling_pipeline:Label propagation\n"
     ]
    },
    {
     "data": {
      "application/vnd.jupyter.widget-view+json": {
       "model_id": "1c1646f640664a23ae84461aaf2d306e",
       "version_major": 2,
       "version_minor": 0
      },
      "text/plain": [
       "HBox(children=(IntProgress(value=0, description='Running label propagation', max=3, style=ProgressStyle(descri…"
      ]
     },
     "metadata": {},
     "output_type": "display_data"
    },
    {
     "name": "stderr",
     "output_type": "stream",
     "text": [
      "/home/hazel/anaconda3/lib/python3.7/site-packages/sklearn/semi_supervised/label_propagation.py:293: RuntimeWarning: invalid value encountered in true_divide\n",
      "  self.label_distributions_ /= normalizer\n",
      "/home/hazel/anaconda3/lib/python3.7/site-packages/sklearn/semi_supervised/label_propagation.py:293: RuntimeWarning: invalid value encountered in true_divide\n",
      "  self.label_distributions_ /= normalizer\n"
     ]
    },
    {
     "name": "stdout",
     "output_type": "stream",
     "text": [
      "\n",
      "INFO:src.labelling_pipeline:Finding modal labels\n",
      "INFO:src.labelling_pipeline:More than one method used, finding modal label\n",
      "INFO:__main__:** category: shorts **\n",
      "INFO:src.labelling_pipeline:Using difflib for sequence matching with fuzzywuzzy\n",
      "INFO:src.labelling_pipeline:Cleaning with common words\n",
      "INFO:src.labelling_pipeline:size of data after clean with common words: 982\n",
      "INFO:src.labelling_pipeline:Fuzzy Matching\n"
     ]
    },
    {
     "data": {
      "application/vnd.jupyter.widget-view+json": {
       "model_id": "0e225ffe08ed4abcad65775fc5d9ee3f",
       "version_major": 2,
       "version_minor": 0
      },
      "text/plain": [
       "HBox(children=(IntProgress(value=0, description='Fuzzy matching in progress:', max=3, style=ProgressStyle(desc…"
      ]
     },
     "metadata": {},
     "output_type": "display_data"
    },
    {
     "name": "stdout",
     "output_type": "stream",
     "text": [
      "\n",
      "INFO:src.labelling_pipeline:Number of fuzzyMatch labels: 11\n",
      "INFO:src.labelling_pipeline:Number of negative labels: 35\n",
      "INFO:src.labelling_pipeline:Word Vectors\n"
     ]
    },
    {
     "data": {
      "application/vnd.jupyter.widget-view+json": {
       "model_id": "f199ef1ce5414aa09621d8de4cc7fd77",
       "version_major": 2,
       "version_minor": 0
      },
      "text/plain": [
       "HBox(children=(IntProgress(value=0, description='Computing vectors:', max=3, style=ProgressStyle(description_w…"
      ]
     },
     "metadata": {},
     "output_type": "display_data"
    },
    {
     "name": "stdout",
     "output_type": "stream",
     "text": [
      "INFO:src.labelling_pipeline:calculated word2vec\n",
      "INFO:src.labelling_pipeline:calculated tfidf\n",
      "INFO:src.labelling_pipeline:calculated count\n",
      "\n",
      "INFO:src.labelling_pipeline:Label propagation\n"
     ]
    },
    {
     "data": {
      "application/vnd.jupyter.widget-view+json": {
       "model_id": "b4769c2af30b4168b1d1096fc27f46f2",
       "version_major": 2,
       "version_minor": 0
      },
      "text/plain": [
       "HBox(children=(IntProgress(value=0, description='Running label propagation', max=3, style=ProgressStyle(descri…"
      ]
     },
     "metadata": {},
     "output_type": "display_data"
    },
    {
     "name": "stderr",
     "output_type": "stream",
     "text": [
      "/home/hazel/anaconda3/lib/python3.7/site-packages/sklearn/semi_supervised/label_propagation.py:293: RuntimeWarning: invalid value encountered in true_divide\n",
      "  self.label_distributions_ /= normalizer\n",
      "/home/hazel/anaconda3/lib/python3.7/site-packages/sklearn/semi_supervised/label_propagation.py:293: RuntimeWarning: invalid value encountered in true_divide\n",
      "  self.label_distributions_ /= normalizer\n"
     ]
    },
    {
     "name": "stdout",
     "output_type": "stream",
     "text": [
      "\n",
      "INFO:src.labelling_pipeline:Finding modal labels\n",
      "INFO:src.labelling_pipeline:More than one method used, finding modal label\n"
     ]
    },
    {
     "name": "stderr",
     "output_type": "stream",
     "text": [
      "/home/hazel/anaconda3/lib/python3.7/site-packages/sklearn/semi_supervised/label_propagation.py:293: RuntimeWarning: invalid value encountered in true_divide\n",
      "  self.label_distributions_ /= normalizer\n"
     ]
    },
    {
     "name": "stdout",
     "output_type": "stream",
     "text": [
      "INFO:__main__:** category: swim **\n",
      "INFO:src.labelling_pipeline:Using difflib for sequence matching with fuzzywuzzy\n",
      "INFO:src.labelling_pipeline:Cleaning with common words\n",
      "INFO:src.labelling_pipeline:size of data after clean with common words: 982\n",
      "INFO:src.labelling_pipeline:Fuzzy Matching\n"
     ]
    },
    {
     "data": {
      "application/vnd.jupyter.widget-view+json": {
       "model_id": "441bbf5f97f146758ddbf8be914dc425",
       "version_major": 2,
       "version_minor": 0
      },
      "text/plain": [
       "HBox(children=(IntProgress(value=0, description='Fuzzy matching in progress:', max=3, style=ProgressStyle(desc…"
      ]
     },
     "metadata": {},
     "output_type": "display_data"
    },
    {
     "name": "stdout",
     "output_type": "stream",
     "text": [
      "\n",
      "INFO:src.labelling_pipeline:Number of fuzzyMatch labels: 206\n",
      "INFO:src.labelling_pipeline:Number of negative labels: 67\n",
      "INFO:src.labelling_pipeline:Word Vectors\n"
     ]
    },
    {
     "data": {
      "application/vnd.jupyter.widget-view+json": {
       "model_id": "5b665ae2821649719d3f3955f3fabff7",
       "version_major": 2,
       "version_minor": 0
      },
      "text/plain": [
       "HBox(children=(IntProgress(value=0, description='Computing vectors:', max=3, style=ProgressStyle(description_w…"
      ]
     },
     "metadata": {},
     "output_type": "display_data"
    },
    {
     "name": "stdout",
     "output_type": "stream",
     "text": [
      "INFO:src.labelling_pipeline:calculated word2vec\n",
      "INFO:src.labelling_pipeline:calculated tfidf\n",
      "INFO:src.labelling_pipeline:calculated count\n",
      "\n",
      "INFO:src.labelling_pipeline:Label propagation\n"
     ]
    },
    {
     "data": {
      "application/vnd.jupyter.widget-view+json": {
       "model_id": "849a3844177c4e728be5eb629bbfbcdc",
       "version_major": 2,
       "version_minor": 0
      },
      "text/plain": [
       "HBox(children=(IntProgress(value=0, description='Running label propagation', max=3, style=ProgressStyle(descri…"
      ]
     },
     "metadata": {},
     "output_type": "display_data"
    },
    {
     "name": "stderr",
     "output_type": "stream",
     "text": [
      "/home/hazel/anaconda3/lib/python3.7/site-packages/sklearn/semi_supervised/label_propagation.py:293: RuntimeWarning: invalid value encountered in true_divide\n",
      "  self.label_distributions_ /= normalizer\n"
     ]
    },
    {
     "name": "stdout",
     "output_type": "stream",
     "text": [
      "\n",
      "INFO:src.labelling_pipeline:Finding modal labels\n",
      "INFO:src.labelling_pipeline:More than one method used, finding modal label\n",
      "INFO:__main__:** category: jeans **\n",
      "INFO:src.labelling_pipeline:Using difflib for sequence matching with fuzzywuzzy\n",
      "INFO:src.labelling_pipeline:Cleaning with common words\n",
      "INFO:src.labelling_pipeline:size of data after clean with common words: 570\n",
      "INFO:src.labelling_pipeline:Fuzzy Matching\n"
     ]
    },
    {
     "data": {
      "application/vnd.jupyter.widget-view+json": {
       "model_id": "6b488f3c3ffe4e9ebf8755a309bd1512",
       "version_major": 2,
       "version_minor": 0
      },
      "text/plain": [
       "HBox(children=(IntProgress(value=0, description='Fuzzy matching in progress:', max=3, style=ProgressStyle(desc…"
      ]
     },
     "metadata": {},
     "output_type": "display_data"
    },
    {
     "name": "stdout",
     "output_type": "stream",
     "text": [
      "\n",
      "INFO:src.labelling_pipeline:Number of fuzzyMatch labels: 44\n",
      "INFO:src.labelling_pipeline:Number of negative labels: 13\n",
      "INFO:src.labelling_pipeline:Word Vectors\n"
     ]
    },
    {
     "data": {
      "application/vnd.jupyter.widget-view+json": {
       "model_id": "b34a9eb559ae417e95f2481b13c5e48b",
       "version_major": 2,
       "version_minor": 0
      },
      "text/plain": [
       "HBox(children=(IntProgress(value=0, description='Computing vectors:', max=3, style=ProgressStyle(description_w…"
      ]
     },
     "metadata": {},
     "output_type": "display_data"
    },
    {
     "name": "stdout",
     "output_type": "stream",
     "text": [
      "INFO:src.labelling_pipeline:calculated word2vec\n",
      "INFO:src.labelling_pipeline:calculated tfidf\n",
      "INFO:src.labelling_pipeline:calculated count\n",
      "\n",
      "INFO:src.labelling_pipeline:Label propagation\n"
     ]
    },
    {
     "data": {
      "application/vnd.jupyter.widget-view+json": {
       "model_id": "ce79cda840ec46a8816a856b0a731abc",
       "version_major": 2,
       "version_minor": 0
      },
      "text/plain": [
       "HBox(children=(IntProgress(value=0, description='Running label propagation', max=3, style=ProgressStyle(descri…"
      ]
     },
     "metadata": {},
     "output_type": "display_data"
    },
    {
     "name": "stderr",
     "output_type": "stream",
     "text": [
      "/home/hazel/anaconda3/lib/python3.7/site-packages/sklearn/semi_supervised/label_propagation.py:293: RuntimeWarning: invalid value encountered in true_divide\n",
      "  self.label_distributions_ /= normalizer\n"
     ]
    },
    {
     "name": "stdout",
     "output_type": "stream",
     "text": [
      "\n",
      "INFO:src.labelling_pipeline:Finding modal labels\n",
      "INFO:src.labelling_pipeline:More than one method used, finding modal label\n",
      "INFO:__main__:** category: tops **\n",
      "INFO:src.labelling_pipeline:Using difflib for sequence matching with fuzzywuzzy\n",
      "INFO:src.labelling_pipeline:Cleaning with common words\n",
      "INFO:src.labelling_pipeline:size of data after clean with common words: 394\n",
      "INFO:src.labelling_pipeline:Fuzzy Matching\n"
     ]
    },
    {
     "data": {
      "application/vnd.jupyter.widget-view+json": {
       "model_id": "e8739b00ac204cd28c409c86427e9745",
       "version_major": 2,
       "version_minor": 0
      },
      "text/plain": [
       "HBox(children=(IntProgress(value=0, description='Fuzzy matching in progress:', max=3, style=ProgressStyle(desc…"
      ]
     },
     "metadata": {},
     "output_type": "display_data"
    },
    {
     "name": "stdout",
     "output_type": "stream",
     "text": [
      "\n",
      "INFO:src.labelling_pipeline:Number of fuzzyMatch labels: 32\n",
      "INFO:src.labelling_pipeline:Number of negative labels: 40\n",
      "INFO:src.labelling_pipeline:Word Vectors\n"
     ]
    },
    {
     "data": {
      "application/vnd.jupyter.widget-view+json": {
       "model_id": "24ee47e266c4495998b95dacea8903ac",
       "version_major": 2,
       "version_minor": 0
      },
      "text/plain": [
       "HBox(children=(IntProgress(value=0, description='Computing vectors:', max=3, style=ProgressStyle(description_w…"
      ]
     },
     "metadata": {},
     "output_type": "display_data"
    },
    {
     "name": "stdout",
     "output_type": "stream",
     "text": [
      "INFO:src.labelling_pipeline:calculated word2vec\n",
      "INFO:src.labelling_pipeline:calculated tfidf\n",
      "INFO:src.labelling_pipeline:calculated count\n",
      "\n",
      "INFO:src.labelling_pipeline:Label propagation\n"
     ]
    },
    {
     "data": {
      "application/vnd.jupyter.widget-view+json": {
       "model_id": "2d47a2e860294117953ca529ab2b0f7a",
       "version_major": 2,
       "version_minor": 0
      },
      "text/plain": [
       "HBox(children=(IntProgress(value=0, description='Running label propagation', max=3, style=ProgressStyle(descri…"
      ]
     },
     "metadata": {},
     "output_type": "display_data"
    },
    {
     "name": "stderr",
     "output_type": "stream",
     "text": [
      "/home/hazel/anaconda3/lib/python3.7/site-packages/sklearn/semi_supervised/label_propagation.py:293: RuntimeWarning: invalid value encountered in true_divide\n",
      "  self.label_distributions_ /= normalizer\n"
     ]
    },
    {
     "name": "stdout",
     "output_type": "stream",
     "text": [
      "\n",
      "INFO:src.labelling_pipeline:Finding modal labels\n",
      "INFO:src.labelling_pipeline:More than one method used, finding modal label\n",
      "INFO:__main__:** category: pants **\n",
      "INFO:src.labelling_pipeline:Using difflib for sequence matching with fuzzywuzzy\n",
      "INFO:src.labelling_pipeline:Cleaning with common words\n",
      "INFO:src.labelling_pipeline:size of data after clean with common words: 802\n",
      "INFO:src.labelling_pipeline:Fuzzy Matching\n"
     ]
    },
    {
     "data": {
      "application/vnd.jupyter.widget-view+json": {
       "model_id": "9a32cf11e53d4bdcbfc2df34af098b07",
       "version_major": 2,
       "version_minor": 0
      },
      "text/plain": [
       "HBox(children=(IntProgress(value=0, description='Fuzzy matching in progress:', max=3, style=ProgressStyle(desc…"
      ]
     },
     "metadata": {},
     "output_type": "display_data"
    },
    {
     "name": "stdout",
     "output_type": "stream",
     "text": [
      "\n",
      "INFO:src.labelling_pipeline:Number of fuzzyMatch labels: 30\n",
      "INFO:src.labelling_pipeline:Number of negative labels: 39\n",
      "INFO:src.labelling_pipeline:Word Vectors\n"
     ]
    },
    {
     "data": {
      "application/vnd.jupyter.widget-view+json": {
       "model_id": "cda389181d6a401b8eb23fe052e45242",
       "version_major": 2,
       "version_minor": 0
      },
      "text/plain": [
       "HBox(children=(IntProgress(value=0, description='Computing vectors:', max=3, style=ProgressStyle(description_w…"
      ]
     },
     "metadata": {},
     "output_type": "display_data"
    },
    {
     "name": "stdout",
     "output_type": "stream",
     "text": [
      "INFO:src.labelling_pipeline:calculated word2vec\n",
      "INFO:src.labelling_pipeline:calculated tfidf\n",
      "INFO:src.labelling_pipeline:calculated count\n",
      "\n",
      "INFO:src.labelling_pipeline:Label propagation\n"
     ]
    },
    {
     "data": {
      "application/vnd.jupyter.widget-view+json": {
       "model_id": "5a793ba551ee4bc3af6d4567f9a301f9",
       "version_major": 2,
       "version_minor": 0
      },
      "text/plain": [
       "HBox(children=(IntProgress(value=0, description='Running label propagation', max=3, style=ProgressStyle(descri…"
      ]
     },
     "metadata": {},
     "output_type": "display_data"
    },
    {
     "name": "stderr",
     "output_type": "stream",
     "text": [
      "/home/hazel/anaconda3/lib/python3.7/site-packages/sklearn/semi_supervised/label_propagation.py:293: RuntimeWarning: invalid value encountered in true_divide\n",
      "  self.label_distributions_ /= normalizer\n"
     ]
    },
    {
     "name": "stdout",
     "output_type": "stream",
     "text": [
      "\n",
      "INFO:src.labelling_pipeline:Finding modal labels\n",
      "INFO:src.labelling_pipeline:More than one method used, finding modal label\n"
     ]
    },
    {
     "name": "stderr",
     "output_type": "stream",
     "text": [
      "/home/hazel/anaconda3/lib/python3.7/site-packages/sklearn/semi_supervised/label_propagation.py:293: RuntimeWarning: invalid value encountered in true_divide\n",
      "  self.label_distributions_ /= normalizer\n"
     ]
    },
    {
     "name": "stdout",
     "output_type": "stream",
     "text": [
      "INFO:__main__:** category: socks **\n",
      "INFO:src.labelling_pipeline:Using difflib for sequence matching with fuzzywuzzy\n",
      "INFO:src.labelling_pipeline:Cleaning with common words\n",
      "INFO:src.labelling_pipeline:size of data after clean with common words: 802\n",
      "INFO:src.labelling_pipeline:Fuzzy Matching\n"
     ]
    },
    {
     "data": {
      "application/vnd.jupyter.widget-view+json": {
       "model_id": "f186f230547543dab03768814b3b4e6c",
       "version_major": 2,
       "version_minor": 0
      },
      "text/plain": [
       "HBox(children=(IntProgress(value=0, description='Fuzzy matching in progress:', max=3, style=ProgressStyle(desc…"
      ]
     },
     "metadata": {},
     "output_type": "display_data"
    },
    {
     "name": "stdout",
     "output_type": "stream",
     "text": [
      "\n",
      "INFO:src.labelling_pipeline:Number of fuzzyMatch labels: 24\n",
      "INFO:src.labelling_pipeline:Number of negative labels: 93\n",
      "INFO:src.labelling_pipeline:Word Vectors\n"
     ]
    },
    {
     "data": {
      "application/vnd.jupyter.widget-view+json": {
       "model_id": "d37e256c31b547548d3257e45ae5fd63",
       "version_major": 2,
       "version_minor": 0
      },
      "text/plain": [
       "HBox(children=(IntProgress(value=0, description='Computing vectors:', max=3, style=ProgressStyle(description_w…"
      ]
     },
     "metadata": {},
     "output_type": "display_data"
    },
    {
     "name": "stdout",
     "output_type": "stream",
     "text": [
      "INFO:src.labelling_pipeline:calculated word2vec\n",
      "INFO:src.labelling_pipeline:calculated tfidf\n",
      "INFO:src.labelling_pipeline:calculated count\n",
      "\n",
      "INFO:src.labelling_pipeline:Label propagation\n"
     ]
    },
    {
     "data": {
      "application/vnd.jupyter.widget-view+json": {
       "model_id": "44dd15dd4c28417c876ba784b6d84000",
       "version_major": 2,
       "version_minor": 0
      },
      "text/plain": [
       "HBox(children=(IntProgress(value=0, description='Running label propagation', max=3, style=ProgressStyle(descri…"
      ]
     },
     "metadata": {},
     "output_type": "display_data"
    },
    {
     "name": "stderr",
     "output_type": "stream",
     "text": [
      "/home/hazel/anaconda3/lib/python3.7/site-packages/sklearn/semi_supervised/label_propagation.py:293: RuntimeWarning: invalid value encountered in true_divide\n",
      "  self.label_distributions_ /= normalizer\n"
     ]
    },
    {
     "name": "stdout",
     "output_type": "stream",
     "text": [
      "\n",
      "INFO:src.labelling_pipeline:Finding modal labels\n",
      "INFO:src.labelling_pipeline:More than one method used, finding modal label\n",
      "labelled\n"
     ]
    }
   ],
   "source": [
    "reload(labelling_pipeline)\n",
    "\n",
    "# empty dictinary to collect results of each category\n",
    "clean_frames = dict()\n",
    "\n",
    "# loop through the labelling pipeline for each output category\n",
    "for i in range(len(outs)):\n",
    "    \n",
    "    logger.info(f\"** category: {outs[i]} **\")\n",
    "    \n",
    "    # select only the correct gender - assume the gender column is reliable\n",
    "    temp = X_train.loc[(X_train['division'] == divisions[i])]\n",
    "\n",
    "    # perform matching and cleaning\n",
    "    cleaned = labelling_pipeline.labelling_pipeline(data=temp, name_col=\"name\",\n",
    "                                                    matching_params=matching_list,\n",
    "                                                    word_vectorizer_params=word_labprop_params,\n",
    "                                                    n_words=15, stop_words=stop, item_id=1,\n",
    "                                                    label_names=seed_labels[str(i)], \n",
    "                                                    common_words=True,\n",
    "                                                    cat_clean=True, division=divisions[i],\n",
    "                                                    category=categories[i],\n",
    "                                                    wv_names=(\"word2vec\", \"tfidf\", \"count\"),\n",
    "                                                    use_difflib=True, notebook=True)\n",
    "    \n",
    "    clean_frames[outs[i]] = cleaned\n",
    "\n",
    "print('labelled')"
   ]
  },
  {
   "cell_type": "markdown",
   "metadata": {},
   "source": [
    "## Combine the labels across iterations \n",
    "\n",
    "Once all the one vs rest classifiers have been run we now combine these across all items into a single dataframe containing the propagated labels. \n",
    "\n",
    "If the same product is assigned a label in more than one loop it is assigned -1 for unlabelled, as it is propagated label is not certain\n",
    "If a label is assigned and then a 0 is also assigned the label outranks the 0.\n",
    "If no label has been assigned ever then we assume the item is junk.\n"
   ]
  },
  {
   "cell_type": "code",
   "execution_count": 10,
   "metadata": {},
   "outputs": [
    {
     "name": "stdout",
     "output_type": "stream",
     "text": [
      "INFO:numexpr.utils:NumExpr defaulting to 4 threads.\n"
     ]
    }
   ],
   "source": [
    "# combine_labels for all categories\n",
    "label_dict={'other': 0, 'coats': 1, 'shirts': 2, 'shorts': 3, 'swim': 4,\n",
    "            'jeans': 5, 'tops': 6, 'pants': 7, 'socks': 8}\n",
    "\n",
    "X_train['label_combined'] = -10000\n",
    "X_train['lab_count'] = 0 \n",
    "X_train['zero_count'] = 0\n",
    "\n",
    "# loop through the categories\n",
    "for i, frame in enumerate(list(clean_frames.keys())):\n",
    "    X_train[label_dict[frame]]=np.nan\n",
    "    index = clean_frames[frame].index\n",
    "    \n",
    "    X_train.loc[index, label_dict[frame]] = clean_frames[frame]['label_labprop_mode']\n",
    "    X_train.loc[(X_train[label_dict[frame]] == 1), 'lab_count'] += 1\n",
    "    X_train.loc[(X_train[label_dict[frame]] == 0), 'zero_count'] += 1\n",
    "    \n",
    "    X_train.loc[(X_train['lab_count']>1), 'label_combined'] = -1\n",
    "    \n",
    "    X_train.loc[(X_train[label_dict[frame]] == 1) &\n",
    "               (X_train['lab_count'] == 1), 'label_combined'] = label_dict[frame]\n",
    "    X_train.loc[(X_train[label_dict[frame]] == 0) &\n",
    "               (X_train['zero_count'] == i+1), 'label_combined'] = 0\n",
    "    X_train.loc[(X_train[label_dict[frame]] == -1) &\n",
    "               (X_train['lab_count'] == 0), 'label_combined']=-1\n",
    "    \n",
    "    X_train.loc[X_train['label_combined'] == -10000, 'label_combined']=0"
   ]
  },
  {
   "cell_type": "markdown",
   "metadata": {},
   "source": [
    "# Examine the results of the label propagation pipeline\n",
    "These results will not be the same as those given in the paper in section 5 but we use similar methods to examine how well the pipeline has performed \n",
    "## Number of labels assigned"
   ]
  },
  {
   "cell_type": "code",
   "execution_count": 11,
   "metadata": {},
   "outputs": [
    {
     "name": "stdout",
     "output_type": "stream",
     "text": [
      "Number of labels assigned: 2676\n",
      "Number of unlabelled items: 520\n"
     ]
    }
   ],
   "source": [
    "print(f'Number of labels assigned: {len(X_train[X_train.label_combined>-1])}')\n",
    "print(f'Number of unlabelled items: {len(X_train[X_train.label_combined==-1])}')"
   ]
  },
  {
   "cell_type": "markdown",
   "metadata": {},
   "source": [
    "## Classification report for labeled items"
   ]
  },
  {
   "cell_type": "code",
   "execution_count": 12,
   "metadata": {},
   "outputs": [
    {
     "name": "stdout",
     "output_type": "stream",
     "text": [
      "              precision    recall  f1-score   support\n",
      "\n",
      "           0       0.56      0.67      0.61       701\n",
      "           1       0.99      0.76      0.86       287\n",
      "           2       0.71      0.82      0.76       309\n",
      "           3       0.46      0.68      0.55        56\n",
      "           4       0.98      0.94      0.96       439\n",
      "           5       0.86      0.96      0.91       397\n",
      "           6       0.98      0.49      0.65       248\n",
      "           7       0.36      0.61      0.45        93\n",
      "           8       0.41      0.05      0.09       146\n",
      "\n",
      "    accuracy                           0.73      2676\n",
      "   macro avg       0.70      0.67      0.65      2676\n",
      "weighted avg       0.76      0.73      0.72      2676\n",
      "\n"
     ]
    }
   ],
   "source": [
    "print(classification_report(y_train.loc[(X_train.label_combined>-1)],\n",
    "                            X_train.loc[(X_train.label_combined>-1),'label_combined']))"
   ]
  },
  {
   "cell_type": "markdown",
   "metadata": {},
   "source": [
    "## Confusion matrix for labeled items\n",
    "\n",
    "This figure is analogous to figure 6 of the paper"
   ]
  },
  {
   "cell_type": "code",
   "execution_count": 13,
   "metadata": {},
   "outputs": [
    {
     "data": {
      "image/png": "[encoded data removed]",
      "text/plain": [
       "<matplotlib.figure.Figure at 0x7fc3e8266fd0>"
      ]
     },
     "metadata": {
      "needs_background": "light"
     },
     "output_type": "display_data"
    }
   ],
   "source": [
    "mat = confusion_matrix(y_train.loc[(X_train.label_combined>-1)],\n",
    "                       X_train.loc[(X_train.label_combined>-1),'label_combined'])\n",
    "fig,ax=plt.subplots(figsize=(6,6))\n",
    "sns.heatmap(mat.T,square=True,annot=True,fmt='d',cbar=False, cmap=sns.cm.rocket_r)\n",
    "\n",
    "ax.set_yticklabels(['Junk','W Coats','M Casual Shirt', 'W sports shorts','W swim',\n",
    "               'B Jeans','G fashion top','M Underwear','M Socks'],rotation=45)\n",
    "\n",
    "ax.set_xticklabels(['Junk','W Coats','M Casual Shirt', 'W sports shorts','W swim',\n",
    "               'B Jeans','G fashion top','M Underwear','M Socks'],rotation=45)\n",
    "\n",
    "ax.tick_params(axis='both', which='major', labelsize=8)\n",
    "ax.set_xlabel('Actual')\n",
    "ax.set_ylabel('Predicted')\n",
    "\n",
    "ax.set_title('No Cleaning')\n",
    "ax.set_xlabel('Actual')\n",
    "ax.set_ylabel('Propogated')\n",
    "fig.tight_layout()    "
   ]
  },
  {
   "cell_type": "markdown",
   "metadata": {},
   "source": [
    "The labels have been propagated accurately for most labels. However propagation has not been as successful for the Mens Socks and Mens Pants categories.\n",
    "This is likely due to the high level of shared language between socks and underwear as well as them falling in to the same broad category underwear and socks. \n",
    "The way the mock data was generated would cause the sharing of language between two categories.\n",
    "As this is a mock dataset the word order of the product names does not make sense and this may of impacted the quality of the fuzzy matching and the label propagation."
   ]
  },
  {
   "cell_type": "markdown",
   "metadata": {},
   "source": [
    "# Train a classifiers\n",
    "\n",
    "Now we have enough labeled data we can use it to train a classifier. \n",
    "In this example notebook we have only used the fastText vectors in the classifier it is straightforward to instead use other word vectors as was done in paper. See sections 3.3 and and 5.3 for further details. "
   ]
  },
  {
   "cell_type": "markdown",
   "metadata": {},
   "source": [
    "## Prepare classifier inputs\n",
    "\n",
    "### Create word vectors\n",
    "Want to create the word vectors from the largest possible vocabulary so use the whole mock dataset. Here we only use the fasttext vectors, but other vectors could be used."
   ]
  },
  {
   "cell_type": "code",
   "execution_count": 14,
   "metadata": {},
   "outputs": [],
   "source": [
    "# get words for word_vectors\n",
    "names=Word_vectors.remove_stopwords(df_mock['name'])\n",
    "\n",
    "names\n",
    "ft_vectors, model_fasttext = Word_vectors.fasttext_vectors(names)\n",
    "df_mock['fasttext_vec'] = ft_vectors.tolist()\n",
    "\n",
    "\n"
   ]
  },
  {
   "cell_type": "markdown",
   "metadata": {},
   "source": [
    "**Infer word vectors for training and test data**"
   ]
  },
  {
   "cell_type": "code",
   "execution_count": 15,
   "metadata": {},
   "outputs": [],
   "source": [
    "# infer labelled data vectors\n",
    "names_train=Word_vectors.remove_stopwords(X_train['name'])\n",
    "X_train['fasttex']=Word_vectors.fasttext_infvec(names_train,model_fasttext).tolist()\n",
    "\n",
    "\n",
    "# infer unlabelled vectors\n",
    "names_test=Word_vectors.remove_stopwords(X_test['name'])   \n",
    "X_test['fasttex']=Word_vectors.fasttext_infvec(names_test,model_fasttext).tolist()\n"
   ]
  },
  {
   "cell_type": "markdown",
   "metadata": {},
   "source": [
    "### Create label encodings for the categorical columns\n",
    "The categorical columns used in this example are division, category and and subcategory \n",
    "The encodings are created on the whole test data then applied to test and train"
   ]
  },
  {
   "cell_type": "code",
   "execution_count": 16,
   "metadata": {},
   "outputs": [],
   "source": [
    "div_code = LabelEncoder().fit(df_mock.division)\n",
    "cat_code = LabelEncoder().fit(df_mock.category)\n",
    "subcat_code = LabelEncoder().fit(df_mock.subcategory)"
   ]
  },
  {
   "cell_type": "code",
   "execution_count": 17,
   "metadata": {},
   "outputs": [],
   "source": [
    "X_train['division_code']=div_code.transform(X_train.division)\n",
    "X_train['category_code']=cat_code.transform(X_train.category)\n",
    "X_train['subcategory_code']=subcat_code.transform(X_train.subcategory)\n",
    "\n",
    "\n",
    "X_test['division_code']=div_code.transform(X_test.division)\n",
    "X_test['category_code']=cat_code.transform(X_test.category)\n",
    "X_test['subcategory_code']=subcat_code.transform(X_test.subcategory)\n",
    "\n"
   ]
  },
  {
   "cell_type": "markdown",
   "metadata": {},
   "source": [
    "### Create the training dataset\n",
    "In training the classifier we want to only train with those products that were assigned a label through label propagation. So here we split the training set again into those with labels from label lpropagation and those that remain unlabeled (have value -1). "
   ]
  },
  {
   "cell_type": "code",
   "execution_count": 18,
   "metadata": {},
   "outputs": [],
   "source": [
    "labelled=X_train[X_train['label_combined']>-1]\n",
    "labelled_y=y_train[X_train['label_combined']>-1]"
   ]
  },
  {
   "cell_type": "markdown",
   "metadata": {},
   "source": [
    "As the word vectors are an array input sklearn requires that all inputs are array type and so we stack all the feature variables together before passing them through the classification algorithms. \n"
   ]
  },
  {
   "cell_type": "code",
   "execution_count": 19,
   "metadata": {},
   "outputs": [],
   "source": [
    "# Stack X train inputs\n",
    "X_train_in = np.stack(labelled[['division_code', 'category_code',\n",
    "                                'subcategory_code']].values)\n",
    "X_train_in = np.concatenate((X_train_in,np.stack(labelled['fasttex'])),axis=1)\n",
    "\n",
    "\n",
    "# # stack unlabelled inputs \n",
    "X_test_in = np.stack(X_test[['division_code', 'category_code',\n",
    "                             'subcategory_code']].values)\n",
    "X_test_in = np.concatenate((X_test_in,np.stack(X_test['fasttex'])),axis=1)\n"
   ]
  },
  {
   "cell_type": "markdown",
   "metadata": {},
   "source": [
    "## Decision Tree\n",
    "\n",
    "Build a decision tree with the fastText vectors. No rigorous hyper-parameter search has been undertaken only a basic grid search with 5 fold cross validation. See section 3.3.1 for a description of the decision tree. "
   ]
  },
  {
   "cell_type": "code",
   "execution_count": 20,
   "metadata": {
    "scrolled": false
   },
   "outputs": [
    {
     "name": "stdout",
     "output_type": "stream",
     "text": [
      "Best fit parameters: {'max_depth': 50, 'min_samples_leaf': 15, 'min_samples_split': 2}\n",
      "\n",
      "*** Training labelled data set against true labels***\n",
      "              precision    recall  f1-score   support\n",
      "\n",
      "           0       0.60      0.70      0.65       701\n",
      "           1       1.00      0.85      0.92       287\n",
      "           2       0.71      0.84      0.77       309\n",
      "           3       0.38      0.68      0.49        56\n",
      "           4       1.00      1.00      1.00       439\n",
      "           5       0.90      1.00      0.95       397\n",
      "           6       1.00      0.41      0.58       248\n",
      "           7       0.36      0.68      0.47        93\n",
      "           8       0.00      0.00      0.00       146\n",
      "\n",
      "    accuracy                           0.76      2676\n",
      "   macro avg       0.66      0.68      0.65      2676\n",
      "weighted avg       0.76      0.76      0.74      2676\n",
      "\n",
      "\n",
      "*** Test split of labelled data set ***\n",
      "              precision    recall  f1-score   support\n",
      "\n",
      "           0       0.62      0.78      0.69       221\n",
      "           1       1.00      0.85      0.92        87\n",
      "           2       0.70      0.87      0.78        79\n",
      "           3       0.41      0.73      0.52        15\n",
      "           4       0.99      1.00      1.00       115\n",
      "           5       0.93      1.00      0.96       103\n",
      "           6       1.00      0.42      0.59        79\n",
      "           7       0.31      0.42      0.36        48\n",
      "           8       0.00      0.00      0.00        52\n",
      "\n",
      "    accuracy                           0.75       799\n",
      "   macro avg       0.66      0.67      0.65       799\n",
      "weighted avg       0.74      0.75      0.73       799\n",
      "\n"
     ]
    },
    {
     "name": "stderr",
     "output_type": "stream",
     "text": [
      "/home/hazel/anaconda3/lib/python3.7/site-packages/sklearn/metrics/classification.py:1437: UndefinedMetricWarning: Precision and F-score are ill-defined and being set to 0.0 in labels with no predicted samples.\n",
      "  'precision', 'predicted', average, warn_for)\n",
      "/home/hazel/anaconda3/lib/python3.7/site-packages/sklearn/metrics/classification.py:1437: UndefinedMetricWarning: Precision and F-score are ill-defined and being set to 0.0 in labels with no predicted samples.\n",
      "  'precision', 'predicted', average, warn_for)\n"
     ]
    },
    {
     "data": {
      "image/png": "[encoded data removed]",
      "text/plain": [
       "<matplotlib.figure.Figure at 0x7fc4052e5a90>"
      ]
     },
     "metadata": {
      "needs_background": "light"
     },
     "output_type": "display_data"
    }
   ],
   "source": [
    "param_grid = [{'max_depth':[5,10,20,30,50],\n",
    "               'min_samples_leaf':[5,10,15,20,25],\n",
    "               'min_samples_split':[2,5,7,10,20]}]\n",
    "dt_clf = GridSearchCV(estimator= DecisionTreeClassifier(class_weight='balanced'),\n",
    "                      param_grid=param_grid,cv=5)\n",
    "dt_clf.fit(X_train_in,labelled['label_combined'])\n",
    "\n",
    "dt_params = dt_clf.best_params_\n",
    "\n",
    "print(f'Best fit parameters: {dt_params}')\n",
    "\n",
    "dt_clf = DecisionTreeClassifier(**dt_params)\n",
    "dt_clf.fit(X_train_in,labelled['label_combined'])\n",
    "\n",
    "ind = np.argsort(dt_clf.feature_importances_)[::-1]\n",
    "\n",
    "print('\\n*** Training labelled data set against true labels***')\n",
    "\n",
    "print(classification_report(labelled_y,dt_clf.predict(X_train_in)))\n",
    "\n",
    "\n",
    "predict_dt=dt_clf.predict(X_test_in)\n",
    "print('\\n*** Test split of labelled data set ***')\n",
    "print(classification_report(y_test,predict_dt))\n",
    "\n",
    "mat = confusion_matrix(y_test,predict_dt)\n",
    "fig,ax=plt.subplots(figsize=(6,6))\n",
    "sns.heatmap(mat.T,square=True,annot=True,fmt='d',cbar=False,cmap=sns.cm.rocket_r)\n",
    "ax.set_yticklabels(['Junk','W Coats','M Casual Shirt', \n",
    "                    'W sports shorts','W swim',\n",
    "                    'B Jeans','G fashion top','M Underwear',\n",
    "                    'M Socks'],rotation=45)\n",
    "\n",
    "ax.set_xticklabels(['Junk','W Coats','M Casual Shirt',\n",
    "                    'W sports shorts','W swim',\n",
    "                    'B Jeans','G fashion top','M Underwear',\n",
    "                    'M Socks'],rotation=45)\n",
    "\n",
    "ax.tick_params(axis='both', which='major', labelsize=8)\n",
    "ax.set_xlabel('Actual')\n",
    "ax.set_ylabel('Predicted')\n",
    "fig.tight_layout()\n"
   ]
  },
  {
   "cell_type": "markdown",
   "metadata": {},
   "source": [
    "The decision tree works reasonably well with the poorly performing items being the same as those that did not perform so well in propagation. There are some products that are being classified to categories when they are actually junk. As precision is important for the use case of this work then this would need to be further explored if this was not a mock dataset."
   ]
  },
  {
   "cell_type": "markdown",
   "metadata": {},
   "source": [
    "## Random Forest\n",
    "\n",
    "Build a random forest with the fastText vectors. No rigorous hyper-parameter search has been undertaken only a basic grid search with 5 fold cross validation. See section 3.3.2 of the paper for discussion of the random forest."
   ]
  },
  {
   "cell_type": "code",
   "execution_count": 21,
   "metadata": {},
   "outputs": [
    {
     "name": "stderr",
     "output_type": "stream",
     "text": [
      "/home/hazel/anaconda3/lib/python3.7/site-packages/sklearn/model_selection/_search.py:814: DeprecationWarning: The default of the `iid` parameter will change from True to False in version 0.22 and will be removed in 0.24. This will change numeric results when test-set sizes are unequal.\n",
      "  DeprecationWarning)\n"
     ]
    },
    {
     "name": "stdout",
     "output_type": "stream",
     "text": [
      "Best fit parameters: {'max_depth': 50, 'min_samples_leaf': 15, 'min_samples_split': 2}\n",
      "\n",
      "*** Training labelled data set against true labels***\n",
      "              precision    recall  f1-score   support\n",
      "\n",
      "           0       0.87      0.69      0.77       701\n",
      "           1       1.00      0.98      0.99       287\n",
      "           2       0.75      0.97      0.85       309\n",
      "           3       0.46      0.96      0.62        56\n",
      "           4       1.00      1.00      1.00       439\n",
      "           5       0.90      1.00      0.95       397\n",
      "           6       0.99      0.78      0.88       248\n",
      "           7       0.36      0.88      0.52        93\n",
      "           8       0.39      0.05      0.09       146\n",
      "\n",
      "    accuracy                           0.84      2676\n",
      "   macro avg       0.75      0.81      0.74      2676\n",
      "weighted avg       0.85      0.84      0.83      2676\n",
      "\n",
      "\n",
      "*** Test split of labelled data set ***\n",
      "              precision    recall  f1-score   support\n",
      "\n",
      "           0       0.93      0.85      0.88       221\n",
      "           1       1.00      1.00      1.00        87\n",
      "           2       0.84      1.00      0.91        79\n",
      "           3       0.45      1.00      0.62        15\n",
      "           4       1.00      1.00      1.00       115\n",
      "           5       0.99      1.00      1.00       103\n",
      "           6       1.00      0.81      0.90        79\n",
      "           7       0.46      0.94      0.62        48\n",
      "           8       0.00      0.00      0.00        52\n",
      "\n",
      "    accuracy                           0.87       799\n",
      "   macro avg       0.74      0.84      0.77       799\n",
      "weighted avg       0.85      0.87      0.85       799\n",
      "\n"
     ]
    },
    {
     "data": {
      "image/png": "[encoded data removed]",
      "text/plain": [
       "<matplotlib.figure.Figure at 0x7fc3c0445310>"
      ]
     },
     "metadata": {
      "needs_background": "light"
     },
     "output_type": "display_data"
    }
   ],
   "source": [
    "param_grid = [{'n_estimators':[5,10,20,30,50],\n",
    "               'max_depth':[5,10,20,30,50,100],\n",
    "               'min_samples_leaf':[1,3,5,10,15]}]\n",
    "rf_clf = GridSearchCV(estimator= RandomForestClassifier(class_weight='balanced'),\n",
    "                      param_grid=param_grid,cv=5)\n",
    "rf_clf.fit(X_train_in,labelled['label_combined'])\n",
    "rf_parm = rf_clf.best_params_\n",
    "\n",
    "print(f'Best fit parameters: {dt_params}')\n",
    "\n",
    "rf_clf = RandomForestClassifier(**rf_parm,class_weight='balanced')\n",
    "rf_clf.fit(X_train_in,labelled['label_combined'])\n",
    "\n",
    "\n",
    "print('\\n*** Training labelled data set against true labels***')\n",
    "print(classification_report(labelled_y,rf_clf.predict(X_train_in)))\n",
    "\n",
    "\n",
    "predict_rf=rf_clf.predict(X_test_in)\n",
    "print('\\n*** Test split of labelled data set ***')\n",
    "print(classification_report(y_test,predict_rf))\n",
    "\n",
    "mat = confusion_matrix(y_test,predict_rf)\n",
    "fig,ax=plt.subplots(figsize=(6,6))\n",
    "sns.heatmap(mat.T,square=True,annot=True,fmt='d',cbar=False,cmap=sns.cm.rocket_r)\n",
    "ax.tick_params(axis='both', which='major', labelsize=8)\n",
    "ax.set_xlabel('Actual')\n",
    "ax.set_ylabel('Predicted')\n",
    "\n",
    "predict_rf=rf_clf.predict(X_test_in)\n",
    "\n",
    "ax.set_yticklabels(['Junk','W Coats','M Casual Shirt', \n",
    "                    'W sports shorts','W swim',\n",
    "                    'B Jeans','G fashion top','M Underwear',\n",
    "                    'M Socks'],rotation=45)\n",
    "\n",
    "ax.set_xticklabels(['Junk','W Coats','M Casual Shirt', \n",
    "                    'W sports shorts','W swim',\n",
    "                    'B Jeans','G fashion top','M Underwear',\n",
    "                    'M Socks'],rotation=45)\n",
    "\n",
    "ax.tick_params(axis='both', which='major', labelsize=8)\n",
    "ax.set_xlabel('Actual')\n",
    "ax.set_ylabel('Predicted')\n",
    "fig.tight_layout()\n"
   ]
  },
  {
   "cell_type": "markdown",
   "metadata": {},
   "source": [
    "The random forest is performing better across most categories but is still unable to distinguish socks and underwear. Again this is where the label propagation performed worse. The random forest has significantly improved precision which is desirable for our use case of price statistics. "
   ]
  },
  {
   "cell_type": "markdown",
   "metadata": {},
   "source": [
    "## Suport vector machine\n",
    "\n",
    "Build a SVM with the fastText vectors. No rigorous hyper-parameter search has been undertaken only a basic grid search with 5 fold cross validation. For discussion of the SVM method see section 3.3.3 of the paper."
   ]
  },
  {
   "cell_type": "code",
   "execution_count": 22,
   "metadata": {},
   "outputs": [],
   "source": [
    "param_grid = [{'C':[100,500,5000,10000],\n",
    "               'gamma':[0.0001,0.01,0.1],\n",
    "               'kernel':['rbf']}]\n",
    "\n",
    "svm_clf = GridSearchCV(estimator=SVC(probability=True),param_grid=param_grid,cv=5)\n",
    "svm_clf.fit(X_train_in,labelled['label_combined'])\n",
    "svm_param = svm_clf.best_params_"
   ]
  },
  {
   "cell_type": "code",
   "execution_count": 23,
   "metadata": {
    "scrolled": false
   },
   "outputs": [
    {
     "name": "stdout",
     "output_type": "stream",
     "text": [
      "Best fit parameters: {'C': 500, 'gamma': 0.0001, 'kernel': 'rbf'}\n",
      "\n",
      "*** Training labelled data set against true labels***\n"
     ]
    },
    {
     "name": "stderr",
     "output_type": "stream",
     "text": [
      "/home/hazel/anaconda3/lib/python3.7/site-packages/sklearn/metrics/classification.py:1437: UndefinedMetricWarning: Precision and F-score are ill-defined and being set to 0.0 in labels with no predicted samples.\n",
      "  'precision', 'predicted', average, warn_for)\n"
     ]
    },
    {
     "name": "stdout",
     "output_type": "stream",
     "text": [
      "              precision    recall  f1-score   support\n",
      "\n",
      "           0       0.74      0.99      0.85       701\n",
      "           1       1.00      1.00      1.00       287\n",
      "           2       0.99      1.00      1.00       309\n",
      "           3       0.95      1.00      0.97        56\n",
      "           4       1.00      1.00      1.00       439\n",
      "           5       1.00      1.00      1.00       397\n",
      "           6       0.00      0.00      0.00       248\n",
      "           7       0.39      1.00      0.56        93\n",
      "           8       0.00      0.00      0.00       146\n",
      "\n",
      "    accuracy                           0.85      2676\n",
      "   macro avg       0.67      0.78      0.71      2676\n",
      "weighted avg       0.76      0.85      0.80      2676\n",
      "\n",
      "\n",
      "*** Test split of labelled data set ***\n",
      "              precision    recall  f1-score   support\n",
      "\n",
      "           0       0.74      1.00      0.85       221\n",
      "           1       1.00      1.00      1.00        87\n",
      "           2       1.00      1.00      1.00        79\n",
      "           3       0.94      1.00      0.97        15\n",
      "           4       1.00      1.00      1.00       115\n",
      "           5       1.00      1.00      1.00       103\n",
      "           6       0.00      0.00      0.00        79\n",
      "           7       0.48      1.00      0.65        48\n",
      "           8       0.00      0.00      0.00        52\n",
      "\n",
      "    accuracy                           0.83       799\n",
      "   macro avg       0.68      0.78      0.72       799\n",
      "weighted avg       0.73      0.83      0.77       799\n",
      "\n"
     ]
    },
    {
     "data": {
      "image/png": "[encoded data removed]",
      "text/plain": [
       "<matplotlib.figure.Figure at 0x7fc41d5aced0>"
      ]
     },
     "metadata": {
      "needs_background": "light"
     },
     "output_type": "display_data"
    }
   ],
   "source": [
    "print(f\"Best fit parameters: {svm_param}\")\n",
    "\n",
    "svm_clf = SVC(**svm_param, probability=True) \n",
    "svm_clf.fit(X_train_in,labelled['label_combined'])\n",
    "\n",
    "predict_svm=svm_clf.predict(X_test_in)\n",
    "\n",
    "print('\\n*** Training labelled data set against true labels***')\n",
    "print(classification_report(labelled_y,svm_clf.predict(X_train_in)))\n",
    "\n",
    "print('\\n*** Test split of labelled data set ***')\n",
    "print(classification_report(y_test,predict_svm))\n",
    "\n",
    "mat = confusion_matrix(y_test,predict_svm)\n",
    "fig,ax=plt.subplots(figsize=(6,6))\n",
    "sns.heatmap(mat.T,square=True,annot=True,fmt='d',cbar=False,cmap=sns.cm.rocket_r)\n",
    "ax.tick_params(axis='both', which='major', labelsize=8)\n",
    "ax.set_xlabel('Actual')\n",
    "ax.set_ylabel('Predicted')\n",
    "\n",
    "predict_proba=svm_clf.predict_proba(X_test_in)\n",
    "\n",
    "\n",
    "ax.set_yticklabels(['Junk','W Coats','M Casual Shirt',\n",
    "                    'W sports shorts','W swim',\n",
    "                    'B Jeans','G fashion top','M Underwear',\n",
    "                    'M Socks'],rotation=45)\n",
    "\n",
    "ax.set_xticklabels(['Junk','W Coats','M Casual Shirt',\n",
    "                    'W sports shorts','W swim',\n",
    "                    'B Jeans','G fashion top','M Underwear',\n",
    "                    'M Socks'],rotation=45)\n",
    "\n",
    "ax.tick_params(axis='both', which='major', labelsize=8)\n",
    "ax.set_xlabel('Actual')\n",
    "ax.set_ylabel('Predicted')\n",
    "fig.tight_layout()"
   ]
  },
  {
   "cell_type": "markdown",
   "metadata": {},
   "source": [
    "The SVM has given similar results to the decision tree, performing well except where the label propagation has done poorly. In addition to the mens underwear and socks the girls fashion tops are not working as well. This is also a poorly performing category in label propagation and no items were correctly assigned to it in training of the SVM algorithm. This again could be a factor of the mock dataset although this is a hard category to classify due to its subjective nature. \n",
    "\n",
    "All of the classification algorithms are performing well with the labels from label propagation, this is in line with what was found in section 5.3.\n"
   ]
  },
  {
   "cell_type": "markdown",
   "metadata": {},
   "source": [
    "# Summary\n",
    "\n",
    "Although we are using a mock dataset which does not contain product names that entirely make sense we see generally similar trends as with the true data.\n",
    "The labels obtained from label propagation are sufficiently accurate that they can be used to train a classifier for use on an unseen dataset with promising results.\n",
    "\n",
    "This notebook is intended to demonstrate the methods of paper Semi-supervised machine learning with word embedding for classification in price statistics, Martindale et.al. using a mock dataset.\n",
    "We are not attempting to recreate the results of the paper as we can not make the data publicly available instead the mock dataset gives a demonstration of the code used in that work. "
   ]
  }
 ],
 "metadata": {
  "kernelspec": {
   "display_name": "Python 3",
   "language": "python",
   "name": "python3"
  },
  "language_info": {
   "codemirror_mode": {
    "name": "ipython",
    "version": 3
   },
   "file_extension": ".py",
   "mimetype": "text/x-python",
   "name": "python",
   "nbconvert_exporter": "python",
   "pygments_lexer": "ipython3",
   "version": "3.7.4"
  },
  "toc": {
   "base_numbering": 1,
   "nav_menu": {},
   "number_sections": true,
   "sideBar": true,
   "skip_h1_title": false,
   "title_cell": "Table of Contents",
   "title_sidebar": "Contents",
   "toc_cell": false,
   "toc_position": {
    "height": "calc(100% - 180px)",
    "left": "10px",
    "top": "150px",
    "width": "375.188px"
   },
   "toc_section_display": true,
   "toc_window_display": true
  },
  "varInspector": {
   "cols": {
    "lenName": 16,
    "lenType": 16,
    "lenVar": 40
   },
   "kernels_config": {
    "python": {
     "delete_cmd_postfix": "",
     "delete_cmd_prefix": "del ",
     "library": "var_list.py",
     "varRefreshCmd": "print(var_dic_list())"
    },
    "r": {
     "delete_cmd_postfix": ") ",
     "delete_cmd_prefix": "rm(",
     "library": "var_list.r",
     "varRefreshCmd": "cat(var_dic_list()) "
    }
   },
   "types_to_exclude": [
    "module",
    "function",
    "builtin_function_or_method",
    "instance",
    "_Feature"
   ],
   "window_display": false
  }
 },
 "nbformat": 4,
 "nbformat_minor": 2
}
